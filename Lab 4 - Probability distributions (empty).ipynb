{
 "cells": [
  {
   "cell_type": "code",
   "execution_count": 1,
   "metadata": {},
   "outputs": [
    {
     "name": "stdout",
     "output_type": "stream",
     "text": [
      "Requirement already satisfied: numpy in d:\\anaconda\\lib\\site-packages (1.15.4)\n"
     ]
    }
   ],
   "source": [
    "# Install the numpy library if needed\n",
    "!pip install --user numpy"
   ]
  },
  {
   "cell_type": "code",
   "execution_count": 2,
   "metadata": {},
   "outputs": [
    {
     "name": "stdout",
     "output_type": "stream",
     "text": [
      "Requirement already satisfied: scipy in d:\\anaconda\\lib\\site-packages (1.1.0)\n"
     ]
    }
   ],
   "source": [
    "# Install the scipy library if needed\n",
    "!pip install --user scipy"
   ]
  },
  {
   "cell_type": "code",
   "execution_count": 4,
   "metadata": {},
   "outputs": [],
   "source": [
    "import matplotlib.pyplot as plt\n",
    "import pandas as pd\n",
    "import numpy as np\n",
    "import scipy.stats as stats\n",
    "\n",
    "%matplotlib inline"
   ]
  },
  {
   "cell_type": "markdown",
   "metadata": {},
   "source": [
    "# Lab 4 - Probability distributions: Normal and Poisson\n",
    "\n",
    "Recall that a *probability distribution* is a math function that describes the probabilities of different outcomes.  Sometimes, we want to find the probability distribution that describes the distribution of the data (called the *empirical distribution*).\n",
    "\n",
    "## Normal or Gaussian distribution\n",
    "\n",
    "In MAT 128 we looked at the normal (or Gaussian) distribution, which has the equation:  $${\\displaystyle f(x\\mid \\mu ,\\sigma ^{2})={\\frac {1}{\\sqrt {2\\pi \\sigma ^{2}}}}e^{-{\\frac {(x-\\mu )^{2}}{2\\sigma ^{2}}}}}$$\n",
    "\n",
    "This distribution is a *parametric distribution* because the function depends on two parameters:  the mean $\\mu$ (pronounced \"mu\"), and the standard deviation $\\sigma$ (pronounced \"sigma\").\n",
    "\n",
    "Let's plot the normal distribution.  First define variables for mu and sigma so we can easily change them."
   ]
  },
  {
   "cell_type": "code",
   "execution_count": 5,
   "metadata": {},
   "outputs": [],
   "source": [
    "mu = 0\n",
    "sigma = 1"
   ]
  },
  {
   "cell_type": "markdown",
   "metadata": {},
   "source": [
    "To plot graphs in Python, we actually plot a bunch of points very close together, and thus need to generate the x and y values for these points.  First we generate 100 evenly spaces x values between mu - 3*sigma = -3 and mu+3*sigma = 3."
   ]
  },
  {
   "cell_type": "code",
   "execution_count": 12,
   "metadata": {},
   "outputs": [
    {
     "data": {
      "text/plain": [
       "array([-3.        , -2.93939394, -2.87878788, -2.81818182, -2.75757576,\n",
       "       -2.6969697 , -2.63636364, -2.57575758, -2.51515152, -2.45454545,\n",
       "       -2.39393939, -2.33333333, -2.27272727, -2.21212121, -2.15151515,\n",
       "       -2.09090909, -2.03030303, -1.96969697, -1.90909091, -1.84848485,\n",
       "       -1.78787879, -1.72727273, -1.66666667, -1.60606061, -1.54545455,\n",
       "       -1.48484848, -1.42424242, -1.36363636, -1.3030303 , -1.24242424,\n",
       "       -1.18181818, -1.12121212, -1.06060606, -1.        , -0.93939394,\n",
       "       -0.87878788, -0.81818182, -0.75757576, -0.6969697 , -0.63636364,\n",
       "       -0.57575758, -0.51515152, -0.45454545, -0.39393939, -0.33333333,\n",
       "       -0.27272727, -0.21212121, -0.15151515, -0.09090909, -0.03030303,\n",
       "        0.03030303,  0.09090909,  0.15151515,  0.21212121,  0.27272727,\n",
       "        0.33333333,  0.39393939,  0.45454545,  0.51515152,  0.57575758,\n",
       "        0.63636364,  0.6969697 ,  0.75757576,  0.81818182,  0.87878788,\n",
       "        0.93939394,  1.        ,  1.06060606,  1.12121212,  1.18181818,\n",
       "        1.24242424,  1.3030303 ,  1.36363636,  1.42424242,  1.48484848,\n",
       "        1.54545455,  1.60606061,  1.66666667,  1.72727273,  1.78787879,\n",
       "        1.84848485,  1.90909091,  1.96969697,  2.03030303,  2.09090909,\n",
       "        2.15151515,  2.21212121,  2.27272727,  2.33333333,  2.39393939,\n",
       "        2.45454545,  2.51515152,  2.57575758,  2.63636364,  2.6969697 ,\n",
       "        2.75757576,  2.81818182,  2.87878788,  2.93939394,  3.        ])"
      ]
     },
     "execution_count": 12,
     "metadata": {},
     "output_type": "execute_result"
    }
   ],
   "source": [
    "x = np.linspace(mu - 3*sigma, mu + 3*sigma, 100)\n",
    "x"
   ]
  },
  {
   "cell_type": "markdown",
   "metadata": {},
   "source": [
    "For each x value, we can compute the value of the normal distribution (the y value):"
   ]
  },
  {
   "cell_type": "code",
   "execution_count": 11,
   "metadata": {},
   "outputs": [
    {
     "data": {
      "text/plain": [
       "array([0.00443185, 0.00530579, 0.00632878, 0.00752133, 0.00890582,\n",
       "       0.0105065 , 0.01234943, 0.01446241, 0.01687483, 0.01961746,\n",
       "       0.02272223, 0.02622189, 0.03014961, 0.03453857, 0.03942137,\n",
       "       0.0448295 , 0.05079264, 0.05733801, 0.06448952, 0.07226707,\n",
       "       0.08068571, 0.08975477, 0.09947714, 0.10984842, 0.12085626,\n",
       "       0.13247967, 0.14468855, 0.15744319, 0.17069405, 0.18438164,\n",
       "       0.1984366 , 0.21277993, 0.22732351, 0.24197072, 0.2566174 ,\n",
       "       0.27115285, 0.28546117, 0.29942268, 0.31291556, 0.3258175 ,\n",
       "       0.33800759, 0.34936814, 0.35978656, 0.36915722, 0.37738323,\n",
       "       0.38437808, 0.3900672 , 0.39438923, 0.39729716, 0.39875915,\n",
       "       0.39875915, 0.39729716, 0.39438923, 0.3900672 , 0.38437808,\n",
       "       0.37738323, 0.36915722, 0.35978656, 0.34936814, 0.33800759,\n",
       "       0.3258175 , 0.31291556, 0.29942268, 0.28546117, 0.27115285,\n",
       "       0.2566174 , 0.24197072, 0.22732351, 0.21277993, 0.1984366 ,\n",
       "       0.18438164, 0.17069405, 0.15744319, 0.14468855, 0.13247967,\n",
       "       0.12085626, 0.10984842, 0.09947714, 0.08975477, 0.08068571,\n",
       "       0.07226707, 0.06448952, 0.05733801, 0.05079264, 0.0448295 ,\n",
       "       0.03942137, 0.03453857, 0.03014961, 0.02622189, 0.02272223,\n",
       "       0.01961746, 0.01687483, 0.01446241, 0.01234943, 0.0105065 ,\n",
       "       0.00890582, 0.00752133, 0.00632878, 0.00530579, 0.00443185])"
      ]
     },
     "execution_count": 11,
     "metadata": {},
     "output_type": "execute_result"
    }
   ],
   "source": [
    "y = stats.norm.pdf(x, mu, sigma)\n",
    "y"
   ]
  },
  {
   "cell_type": "markdown",
   "metadata": {},
   "source": [
    "Note:  pdf standard for *probability density function* which is what a continuous probability distribution is called\n",
    "\n",
    "Now make a line plot of these x and y values:"
   ]
  },
  {
   "cell_type": "code",
   "execution_count": 13,
   "metadata": {},
   "outputs": [
    {
     "data": {
      "text/plain": [
       "[<matplotlib.lines.Line2D at 0x1fabc1c0860>]"
      ]
     },
     "execution_count": 13,
     "metadata": {},
     "output_type": "execute_result"
    },
    {
     "data": {
      "image/png": "[encoded data removed]",
      "text/plain": [
       "<Figure size 432x288 with 1 Axes>"
      ]
     },
     "metadata": {
      "needs_background": "light"
     },
     "output_type": "display_data"
    }
   ],
   "source": [
    "plt.plot(x,y)"
   ]
  },
  {
   "cell_type": "markdown",
   "metadata": {},
   "source": [
    "Because the x values were so close together, we can't tell that it is made up of a bunch of straight lines.\n",
    "\n",
    "In MAT 128 we sampled values from the normal distribution using the numpy library:\n",
    "We can sample 1000 values from this normal distribution (as done in MAT 128):"
   ]
  },
  {
   "cell_type": "code",
   "execution_count": 14,
   "metadata": {},
   "outputs": [
    {
     "data": {
      "text/plain": [
       "array([ 1.202895  ,  0.2522855 ,  0.18138792,  1.08350241, -0.54373367,\n",
       "       -1.17308068, -0.47911846, -0.09280173, -1.0670364 ,  0.9557587 ,\n",
       "       -2.68171622, -2.01404855,  0.57019232, -1.03312195,  0.68094386,\n",
       "       -1.38185072, -1.59223843, -0.14874742, -1.16682389, -0.11280173,\n",
       "       -0.29120751,  1.60846562, -1.14885399, -1.12069157,  0.13751976,\n",
       "        2.07246035, -0.6974245 ,  0.02742388,  2.70890238,  0.08435247,\n",
       "        0.09936406,  1.83473486,  0.92395505, -0.96123028, -1.11713916,\n",
       "       -0.09397868,  0.13209345, -0.81668264, -0.98382077,  1.39560976,\n",
       "       -1.16333767, -0.34906654,  0.43599636,  0.60039167, -0.04662385,\n",
       "       -0.61208621,  0.98085468, -0.10772014, -1.08436018, -0.74112237,\n",
       "       -0.14302048, -0.46242272,  1.03092314,  1.33902022,  1.69829726,\n",
       "       -0.38861508,  1.05130061,  0.16359215,  1.45676733, -0.86264929,\n",
       "        1.50720329, -1.05342002,  0.78387133,  0.80444712, -0.06972262,\n",
       "       -0.16419896,  0.60255183,  0.7448368 ,  0.00997092, -0.59311003,\n",
       "       -0.69866822, -0.273441  ,  1.38206859, -0.83558965, -0.22216717,\n",
       "        2.5027605 ,  1.26447643,  2.29339783, -0.09359838, -1.57034036,\n",
       "        0.31266283,  0.94365666, -1.01567546, -0.27443761,  0.97227107,\n",
       "       -0.33234492,  0.02175834,  0.53911554,  1.71093164, -0.47069025,\n",
       "        0.40241206, -0.15814064,  1.86122851, -0.33078347,  0.65082292,\n",
       "        0.88387339, -0.80686449,  1.31091091, -0.24196034, -0.12738803,\n",
       "       -0.75325017,  1.65258065, -0.37381004, -2.3259543 ,  1.2060733 ,\n",
       "       -0.86416325, -0.24710683,  0.45645946, -0.80824804,  0.78344408,\n",
       "        0.15994941,  1.03675441,  0.18888261, -1.80617012,  0.23709162,\n",
       "       -0.24305818,  0.39977435, -1.89001957,  0.36243284, -1.84938606,\n",
       "        0.62416519, -0.71781669, -0.52113621, -0.64265622, -0.35250849,\n",
       "       -1.03779585,  0.9315108 , -1.34966312,  0.73195726, -1.4187263 ,\n",
       "        0.41471952, -0.30570062,  0.46621574, -1.69171232, -0.62731199,\n",
       "        1.30009649, -0.42168804,  1.42856578, -0.43048195,  0.80784341,\n",
       "       -0.32629453,  0.30500513,  0.69788625,  1.12393765, -0.28094412,\n",
       "       -0.5044112 ,  0.02810545,  1.63547279,  0.79621422,  2.05852883,\n",
       "       -0.13104604,  0.18349264, -0.24243662, -1.34343982,  0.22813577,\n",
       "        0.1945954 , -1.13521109,  0.91667956,  0.51914825,  0.26725701,\n",
       "       -0.0224976 , -0.18596544,  1.62126015,  1.95270695,  0.09322049,\n",
       "       -1.07547658, -1.57762447, -1.65576757, -1.25333279,  0.16210141,\n",
       "       -0.26193121,  1.80144288,  0.90014684, -0.11432895,  1.10749973,\n",
       "       -1.04572306,  1.72702564,  1.68401729, -0.45486494, -1.62843369,\n",
       "        0.87636226, -0.83795976,  0.40305868, -0.35491781,  0.49872911,\n",
       "        0.88048485, -0.80921994, -1.18769171,  0.4943216 ,  0.41027201,\n",
       "        0.0662152 ,  0.89304654,  0.24367022, -0.96033105, -0.78537681,\n",
       "        0.36563631,  0.20430532, -0.75461219,  0.78529695, -0.8143602 ,\n",
       "       -1.11078715, -0.04502366, -0.57593409, -0.79106035,  1.30813072,\n",
       "        0.12803861,  0.07220882,  0.04788224, -1.26464917,  0.59613059,\n",
       "        0.5613551 , -1.02015262,  0.50792211, -0.02876334,  0.92778699,\n",
       "        0.32783019,  1.9193769 , -1.07910892,  0.73440581,  1.1759003 ,\n",
       "       -1.79656912, -1.52895106,  0.81571454, -1.06521747,  0.13821769,\n",
       "       -0.21903283, -1.61507756,  0.6981443 , -1.40003135, -0.43128113,\n",
       "       -1.05009734, -1.41692644,  0.33419127, -0.02564008,  2.53465033,\n",
       "       -0.58899144, -0.83675617, -1.0994523 , -0.96976303, -0.92896746,\n",
       "        0.04108444,  1.12541433,  1.00514427,  0.5634219 ,  0.17869246,\n",
       "        1.10525731, -0.68587215, -0.71654286,  0.08680726, -1.49468681,\n",
       "        1.89816731, -0.56929674, -1.38771704, -1.05322641, -0.22955763,\n",
       "       -2.39871744, -1.41431726,  0.18970948,  1.06261655, -1.3671368 ,\n",
       "       -1.09223712, -2.76149661,  3.0648219 ,  0.07111112, -0.55625224,\n",
       "       -0.45300295, -1.18671157,  1.40376884, -0.33846863, -0.3138426 ,\n",
       "       -0.94797686, -0.24949917, -1.09051409, -0.23322046, -0.9653405 ,\n",
       "       -0.33956897, -0.09737354,  0.355388  , -0.67524597,  0.28370859,\n",
       "       -0.32469687,  0.47315975, -0.97051656,  0.01920259,  0.61825701,\n",
       "        1.68794236, -0.02662459,  0.30863578,  0.3880429 ,  0.4967234 ,\n",
       "        0.2318919 , -1.57084347,  0.01454029,  0.37200333,  0.99638149,\n",
       "        0.56232677, -0.1301114 , -0.01135717,  0.21958621, -0.91603269,\n",
       "       -0.09786555,  0.58613631,  1.18303767, -0.94388853,  0.15068135,\n",
       "       -0.67335888, -1.19761072,  0.353112  , -1.04632073, -1.3395291 ,\n",
       "        0.66209657, -1.97799108, -0.66620142, -0.75500501, -0.150583  ,\n",
       "        0.47310528, -0.55359059,  0.70763272, -0.76117382, -0.41678756,\n",
       "       -0.13146656,  0.1498999 , -0.25191988, -0.21510186, -1.35628718,\n",
       "       -0.65354845,  0.3409939 , -0.20078245,  1.92043746, -0.06999025,\n",
       "        0.47458157, -0.54106357,  0.67850286, -0.98311947,  0.10486596,\n",
       "        0.35999129,  1.70274896, -1.36659146,  0.54842662, -1.0661057 ,\n",
       "       -0.50599087, -0.04428133, -2.31940201, -0.45898557, -1.00521303,\n",
       "       -1.24643755, -0.60717005, -1.56672247, -0.76754906, -1.00015843,\n",
       "        0.04333141,  0.41156612,  1.82646621,  0.56305039,  2.10473725,\n",
       "        1.04026589,  1.99418086,  0.81386674,  0.03915007, -0.11170124,\n",
       "       -1.3946436 ,  2.01405581, -1.21568983,  0.13201893, -0.49951816,\n",
       "       -1.19507515,  1.99980096,  0.84435601,  1.11903318, -0.77169686,\n",
       "       -0.50333408,  0.59404698, -1.35919621,  0.0033252 , -0.06743698,\n",
       "        0.93965005, -0.37407244,  1.74531685,  0.88244872,  0.0131103 ,\n",
       "        1.67129754,  1.44294665, -0.56569309,  0.38150593,  1.80235614,\n",
       "        2.3979238 , -1.20522616, -0.27891242, -0.06907745, -1.92450447,\n",
       "        0.72411656, -0.1302318 ,  1.14790044,  2.02051049, -1.94758965,\n",
       "       -0.73399843, -0.36287146,  0.25494384, -0.14698626, -0.83824222,\n",
       "       -0.52954461, -0.98947274, -0.26476912, -2.03653599,  0.80733313,\n",
       "       -1.43165822, -0.78789976,  0.69122888,  0.67259054,  0.83607326,\n",
       "       -0.21320733,  0.73042729,  0.9957346 , -1.09127237,  1.94519696,\n",
       "       -1.5942784 , -0.06595046,  0.810512  , -0.06140966, -1.24483448,\n",
       "       -0.82296563, -0.11508437, -2.0770351 ,  0.56885981,  0.03962588,\n",
       "        0.84067129, -0.81004548, -0.94357832, -0.07875197,  0.41581897,\n",
       "        0.79132141, -0.54993413, -0.51380437,  0.27705486,  0.16303143,\n",
       "       -1.71057146,  0.58485908, -0.96934878,  1.88827524,  0.98510586,\n",
       "       -0.27954588,  1.93878643, -0.01969474,  0.88340034,  1.72406401,\n",
       "        1.6002254 ,  0.86008987,  0.06909214,  1.33344904, -0.13733599,\n",
       "       -0.58634476,  1.52660777,  2.00394438, -0.08456369,  0.11122382,\n",
       "       -0.20425546, -1.31692185,  0.81815877,  0.16064314,  0.15388075,\n",
       "       -2.03411806,  0.26949569, -0.29714321, -0.45488425, -0.0380541 ,\n",
       "        1.03825714,  0.62879617, -1.57431612,  2.12637811, -0.1932601 ,\n",
       "       -0.53605888, -0.20970491, -0.60099365, -1.12879984, -0.5813199 ,\n",
       "        0.15542613, -0.33311823, -1.92530412, -0.49595069,  1.38165363,\n",
       "        0.46269827,  0.35471482, -1.44304053, -1.01377556,  0.55562436,\n",
       "       -1.13947868, -1.6298688 ,  0.49847159,  0.28517077, -0.5663905 ,\n",
       "       -0.19571574,  0.089455  , -0.31989612, -1.52500062, -0.11749546,\n",
       "       -1.85420155, -0.15348547, -0.53700984, -0.46263039, -0.09201356,\n",
       "        0.16897753, -0.26388964,  1.76329324, -0.60022734, -0.01833515,\n",
       "        0.17992784,  0.14925517,  0.98252723, -1.22636746,  0.71980894,\n",
       "       -0.15406805,  0.82139454,  1.09392914, -0.94151451, -1.75553066,\n",
       "       -0.33761137, -1.23177852,  0.39490361,  0.95989487, -0.42667262,\n",
       "        1.43842842, -1.07653179,  0.81226798,  0.26213507,  1.46226863,\n",
       "       -0.02334784,  0.79606592,  0.46200895,  1.09092886, -0.57153202,\n",
       "        0.85628576,  0.85981675,  2.09226396, -0.96195428,  1.49822486,\n",
       "        0.05477043, -0.07427499,  1.29884887,  1.60564901, -0.170704  ,\n",
       "       -0.21943334,  0.20527407, -0.38002226,  0.73645619,  1.80059028,\n",
       "        0.16112767,  2.03531364,  1.52518476, -0.46544264,  0.43856407,\n",
       "        0.64948269,  0.39338761, -0.23884083, -0.55217427, -0.56594587,\n",
       "        0.36576106,  1.78097972, -0.43367162, -0.03265963,  0.36138969,\n",
       "       -1.71829321,  0.015051  ,  0.96748309,  1.69980505,  0.11138122,\n",
       "       -1.10265277, -0.08712435,  0.42798849, -0.41009452, -1.41256787,\n",
       "       -0.45498613, -1.30316021,  1.52944798,  0.89489266, -0.09050038,\n",
       "       -0.31891505, -1.03173952,  0.40555162, -0.16542014,  1.09157937,\n",
       "        1.58420173, -1.95346778,  1.66689619,  0.78907008, -0.50203395,\n",
       "        0.18301276, -0.91992017, -1.23050003,  0.46594147, -0.97241134,\n",
       "        1.42717874,  1.46501447,  0.67242963,  0.41767933, -0.3650384 ,\n",
       "        0.47817661,  0.37152332, -0.68034104, -1.40475198,  0.6482786 ,\n",
       "        0.47999314, -0.19813868, -0.50351323, -2.08381028,  0.26033774,\n",
       "        0.26803001,  0.41817678, -2.08003288,  0.55397148, -1.39794829,\n",
       "        0.74824384, -0.0988091 ,  0.40078484, -0.50669343, -0.04300659,\n",
       "        1.4614897 ,  0.85015766, -1.25238194, -2.3997259 ,  0.06536556,\n",
       "        0.10698746,  0.50334573,  0.1179073 ,  2.03246124, -0.55183272,\n",
       "       -1.23640749, -1.83742606, -0.86248597,  0.46756375,  0.28764602,\n",
       "        0.86533927, -1.00317369, -0.42433305, -0.57247501, -0.0849479 ,\n",
       "        0.15727021,  0.69038385, -0.13779312, -0.15798559,  2.10517444,\n",
       "        1.029879  , -0.57415026,  0.21013218, -0.01306202,  0.35122996,\n",
       "       -1.39328715,  0.31386317,  0.04389185,  0.38232463, -0.91075158,\n",
       "        0.9318737 , -0.30683595,  0.06781791, -1.33878868,  0.01121608,\n",
       "        0.1388018 ,  1.88916235,  0.06383083, -1.47887003, -0.02216124,\n",
       "       -1.59804566,  0.47316994,  0.39420874,  0.32144926, -0.87493905,\n",
       "       -0.44391669, -0.39098624,  1.23119784,  1.29369719, -0.34314257,\n",
       "       -1.48875172, -0.02012797,  0.0239259 , -0.28133   ,  0.62312199,\n",
       "        0.70630993,  0.81657235,  0.71701003,  0.96935316,  1.95066284,\n",
       "       -0.06234263,  1.32773663, -2.47487452,  1.10176299, -0.42110887,\n",
       "        0.3785597 , -1.20881307, -0.36502269, -1.2399154 ,  0.5799405 ,\n",
       "        1.85301353,  1.13821493, -0.25343233, -0.65235761,  1.52210977,\n",
       "       -2.36369519, -0.7977841 , -1.55259961,  1.34303791, -1.01361961,\n",
       "       -1.00486589, -0.91513019,  3.23690985,  1.27232413, -0.510912  ,\n",
       "        0.18733404,  1.18161   ,  2.18803017,  0.15934232, -2.3073043 ,\n",
       "       -0.18268595,  0.49039019, -0.14066883, -0.29931   , -1.18803087,\n",
       "        1.54627217,  0.85180942,  1.28821277,  1.97297041,  0.94492824,\n",
       "       -0.2098759 , -0.32360948,  0.07908586,  0.76704007, -0.40146635,\n",
       "        1.36374418, -1.24724786, -1.43940586,  0.73880631,  1.37498917,\n",
       "        1.0549909 , -0.21504999,  1.30630245,  1.11492339, -0.35048571,\n",
       "       -0.8134105 ,  0.37644648, -1.20663007, -0.70566149, -0.65510263,\n",
       "        0.11797588,  0.65559   ,  1.18522447,  0.02283152, -1.06677514,\n",
       "       -1.44632667,  0.34333044, -0.11191921, -0.78238479, -0.6643466 ,\n",
       "        0.52666289,  1.61176211, -0.17782531, -0.89433618,  1.35055152,\n",
       "       -0.11485042, -1.37474373,  0.55894377, -0.20446335,  0.10469609,\n",
       "        1.08517533,  1.1844109 ,  0.56103216, -0.63538298, -2.11981932,\n",
       "        0.75805833, -1.02163342, -0.66892427, -0.82874231,  1.66118002,\n",
       "       -0.00959997, -0.11987875,  2.76994089,  1.25102524,  0.37892591,\n",
       "       -0.72607265, -0.11475627, -1.23373763, -0.586204  , -1.6041508 ,\n",
       "       -0.91288211,  2.18496587,  0.59076362, -0.39719613, -1.29699477,\n",
       "       -0.88425227,  0.45489989, -0.75221696, -0.82536532,  0.71181675,\n",
       "        0.64117984, -1.3957436 , -0.82217049, -0.86569349, -0.12955907,\n",
       "        1.82972579, -0.77037524,  0.53022957,  0.05791943,  0.21852025,\n",
       "        0.4817368 ,  0.97084805, -0.01320941, -0.42441803,  0.51497154,\n",
       "        0.28210608, -0.64386516, -0.61878123, -0.51215485,  0.33308053,\n",
       "        2.45495095,  1.17503005,  1.36169363,  0.71638369, -0.59446935,\n",
       "        0.24172447,  0.66703719, -1.0753707 ,  0.58210049,  0.28256699,\n",
       "       -1.36046063,  0.60770972, -0.06863746,  0.22208967,  1.8781059 ,\n",
       "        0.58535601, -0.74717332,  0.73076791,  0.89499297, -1.38226393,\n",
       "        0.87416549, -0.17270069, -0.53435526,  1.00678611,  1.33699281,\n",
       "        1.58194423, -0.66060311,  0.31883834,  0.47491393, -1.86145158,\n",
       "       -1.0952795 ,  2.25970445, -1.45529254,  0.68253836,  0.50349451,\n",
       "        1.09662586,  0.45643023,  0.20018313,  0.59132015,  0.63194508,\n",
       "        2.05886431,  0.84320105, -0.20390738, -0.42693142,  0.19047899,\n",
       "        0.57038285,  0.15598079, -0.82802169,  0.35905266,  0.38162123,\n",
       "       -1.06776924, -1.72025018, -1.97439141,  1.31632506, -0.06897315,\n",
       "       -0.38363074, -0.21785418, -0.5105134 ,  0.14661746,  0.55749023,\n",
       "        1.34339203,  0.03684516, -1.05415162, -0.72345862,  1.19568472,\n",
       "        0.5632706 , -1.68392527, -0.05727554, -1.0072147 , -0.59948816,\n",
       "       -1.46887711, -0.67175133,  1.13216796, -0.33973046,  0.76712861,\n",
       "       -0.24927188,  0.46476721,  0.0888684 ,  0.90119751, -0.00933035,\n",
       "        0.24087705, -2.07467438,  0.09566804,  0.71601918, -0.04564655,\n",
       "       -2.04699025, -0.87751764, -0.31626492,  0.97551311,  1.0246844 ,\n",
       "        0.87513385,  0.8576145 ,  0.65018154, -1.28974487, -1.00711047,\n",
       "       -0.66602989,  0.07993839, -0.49335453, -1.46743814, -1.17522442,\n",
       "        0.85671361, -0.95035944, -1.02649413, -0.37503722, -0.38477947,\n",
       "       -1.33355245, -0.3936208 ,  1.01403712, -1.63959404,  0.20715783,\n",
       "        1.23266678,  0.66278254, -2.09580746, -1.30506355,  2.09467945,\n",
       "       -0.05926243,  0.01820234,  0.87300894,  1.05912544, -0.30984334,\n",
       "        0.6543028 ,  1.2003533 , -0.61924494,  0.21638759,  1.30689902,\n",
       "       -0.82838977,  0.72139582,  2.81036795,  0.34809675, -1.64428755,\n",
       "        0.26307083,  1.37729613, -0.02378603,  1.69950754, -0.0243522 ,\n",
       "        0.59549095, -0.54267924, -1.8762971 ,  0.71138812, -0.08582153,\n",
       "       -1.73832403, -0.78940756,  0.55843346,  1.72862964,  1.47949697,\n",
       "        0.45456065, -0.07339488,  0.10645304, -0.73684008,  0.86414476,\n",
       "        0.77198252, -1.93662609,  1.23495733, -0.08105462,  1.80346139,\n",
       "        1.00169711, -0.14521291,  1.37464913, -0.00730585, -0.02923103,\n",
       "       -0.08378793,  0.21851086,  0.34206534, -1.38663399, -1.19633349,\n",
       "       -0.40598583,  0.8524028 , -0.99349488,  2.52060541,  1.31769981,\n",
       "       -1.45060879, -2.05234724,  0.77215743,  0.23947494,  0.4748362 ,\n",
       "       -1.92616062,  0.72841637,  1.50928997, -0.98723393, -0.50239378,\n",
       "        1.42104092, -0.53259722,  0.21536282,  1.48455324,  1.10677511,\n",
       "        0.31283987, -0.02540351, -0.31476112, -1.33663927,  0.06784006])"
      ]
     },
     "execution_count": 14,
     "metadata": {},
     "output_type": "execute_result"
    }
   ],
   "source": [
    "sample = np.random.normal(loc = mu, scale = sigma, size = 1000)\n",
    "sample"
   ]
  },
  {
   "cell_type": "markdown",
   "metadata": {},
   "source": [
    "Plot a histogram of the sample.  Remember you will first have to make it into a Pandas Series:  `pd.Series(sample)` \n",
    "\n",
    "How does the histogram compare to the normal probability distribution?"
   ]
  },
  {
   "cell_type": "code",
   "execution_count": 24,
   "metadata": {},
   "outputs": [
    {
     "data": {
      "text/plain": [
       "<matplotlib.axes._subplots.AxesSubplot at 0x1fabd4b2358>"
      ]
     },
     "execution_count": 24,
     "metadata": {},
     "output_type": "execute_result"
    },
    {
     "data": {
      "image/png": "[encoded data removed]",
      "text/plain": [
       "<Figure size 432x288 with 1 Axes>"
      ]
     },
     "metadata": {
      "needs_background": "light"
     },
     "output_type": "display_data"
    }
   ],
   "source": [
    "pd.Series(sample).hist(bins = 30)"
   ]
  },
  {
   "cell_type": "markdown",
   "metadata": {},
   "source": [
    "To really compare the probability distribution with the histogram, we can plot the two in the same plot, using the `density` option to change the y axis of the histogram to the same scale as the probability distribution."
   ]
  },
  {
   "cell_type": "code",
   "execution_count": 23,
   "metadata": {},
   "outputs": [
    {
     "data": {
      "text/plain": [
       "[<matplotlib.lines.Line2D at 0x1fabd429e48>]"
      ]
     },
     "execution_count": 23,
     "metadata": {},
     "output_type": "execute_result"
    },
    {
     "data": {
      "image/png": "[encoded data removed]",
      "text/plain": [
       "<Figure size 432x288 with 1 Axes>"
      ]
     },
     "metadata": {
      "needs_background": "light"
     },
     "output_type": "display_data"
    }
   ],
   "source": [
    "pd.Series(sample).hist(bins = 30, density = True)\n",
    "plt.plot(x,y)"
   ]
  },
  {
   "cell_type": "markdown",
   "metadata": {},
   "source": [
    "### Normally distributed data\n",
    "\n",
    "Let's look at some normally distributed data.  Download the text file `babyboom.dat.txt`.  It contains data about 44 babies that were born on December 18, 1997 at the Mater Mothers' Hospital in Brisbane, Australia.  \n",
    "\n",
    "Data Columns:\n",
    "   - Time of birth recorded on the 24-hour clock\n",
    "   - Sex of the child (1 = girl, 2 = boy)\n",
    "   - Birth weight in grams\n",
    "   - Number of minutes after midnight of each birth\n",
    "\n",
    "Data set from:  https://raw.githubusercontent.com/cs109/2015lab3/master/babyboom.dat.txt\n",
    "Original references:\n",
    "Steele, S. (December 21, 1997), \"Babies by the Dozen for Christmas: 24-Hour Baby Boom,\" The Sunday Mail (Brisbane), p. 7\n",
    "\n",
    "Open the dataset in a text editor.  How are the columns separated?   Are there any columns names?\n",
    "\n",
    "Despite these issues we can still use `pd.read_csv()`:"
   ]
  },
  {
   "cell_type": "code",
   "execution_count": 30,
   "metadata": {},
   "outputs": [],
   "source": [
    "babies = pd.read_csv(\"babyboom.dat.txt\", header=None, sep='\\s+', names=['24hrtime','sex','weight','minutes'])"
   ]
  },
  {
   "cell_type": "markdown",
   "metadata": {},
   "source": [
    "The parameter `header=None` tells `read_csv()` that there is no header row with columns names, and instead we specify the column names with the parameter `names=['24hrtime','sex','weight','minutes']`.  \n",
    "\n",
    "The parameter `sep='\\s+'` tells `read_csv()` that the columns are separated by white space (space, tab, etc.) instead of a comma."
   ]
  },
  {
   "cell_type": "code",
   "execution_count": 28,
   "metadata": {},
   "outputs": [
    {
     "data": {
      "text/html": [
       "<div>\n",
       "<style scoped>\n",
       "    .dataframe tbody tr th:only-of-type {\n",
       "        vertical-align: middle;\n",
       "    }\n",
       "\n",
       "    .dataframe tbody tr th {\n",
       "        vertical-align: top;\n",
       "    }\n",
       "\n",
       "    .dataframe thead th {\n",
       "        text-align: right;\n",
       "    }\n",
       "</style>\n",
       "<table border=\"1\" class=\"dataframe\">\n",
       "  <thead>\n",
       "    <tr style=\"text-align: right;\">\n",
       "      <th></th>\n",
       "      <th>24hrtime</th>\n",
       "      <th>sex</th>\n",
       "      <th>weight</th>\n",
       "      <th>minutes</th>\n",
       "    </tr>\n",
       "  </thead>\n",
       "  <tbody>\n",
       "    <tr>\n",
       "      <th>0</th>\n",
       "      <td>5</td>\n",
       "      <td>1</td>\n",
       "      <td>3837</td>\n",
       "      <td>5</td>\n",
       "    </tr>\n",
       "    <tr>\n",
       "      <th>1</th>\n",
       "      <td>104</td>\n",
       "      <td>1</td>\n",
       "      <td>3334</td>\n",
       "      <td>64</td>\n",
       "    </tr>\n",
       "    <tr>\n",
       "      <th>2</th>\n",
       "      <td>118</td>\n",
       "      <td>2</td>\n",
       "      <td>3554</td>\n",
       "      <td>78</td>\n",
       "    </tr>\n",
       "    <tr>\n",
       "      <th>3</th>\n",
       "      <td>155</td>\n",
       "      <td>2</td>\n",
       "      <td>3838</td>\n",
       "      <td>115</td>\n",
       "    </tr>\n",
       "    <tr>\n",
       "      <th>4</th>\n",
       "      <td>257</td>\n",
       "      <td>2</td>\n",
       "      <td>3625</td>\n",
       "      <td>177</td>\n",
       "    </tr>\n",
       "  </tbody>\n",
       "</table>\n",
       "</div>"
      ],
      "text/plain": [
       "   24hrtime  sex  weight  minutes\n",
       "0         5    1    3837        5\n",
       "1       104    1    3334       64\n",
       "2       118    2    3554       78\n",
       "3       155    2    3838      115\n",
       "4       257    2    3625      177"
      ]
     },
     "execution_count": 28,
     "metadata": {},
     "output_type": "execute_result"
    }
   ],
   "source": [
    "babies.head()"
   ]
  },
  {
   "cell_type": "markdown",
   "metadata": {},
   "source": [
    "Which column might be normally distributed?\n",
    "\n",
    "Let's plot a histogram of the weights:"
   ]
  },
  {
   "cell_type": "code",
   "execution_count": 31,
   "metadata": {},
   "outputs": [
    {
     "data": {
      "text/plain": [
       "<matplotlib.axes._subplots.AxesSubplot at 0x1fabdc5ae48>"
      ]
     },
     "execution_count": 31,
     "metadata": {},
     "output_type": "execute_result"
    },
    {
     "data": {
      "image/png": "[encoded data removed]",
      "text/plain": [
       "<Figure size 432x288 with 1 Axes>"
      ]
     },
     "metadata": {
      "needs_background": "light"
     },
     "output_type": "display_data"
    }
   ],
   "source": [
    "babies['weight'].hist()\n"
   ]
  },
  {
   "cell_type": "markdown",
   "metadata": {},
   "source": [
    "To compare to a normal distribution, we should compute the mean and standard deviation of the weights:"
   ]
  },
  {
   "cell_type": "code",
   "execution_count": 48,
   "metadata": {},
   "outputs": [
    {
     "name": "stdout",
     "output_type": "stream",
     "text": [
      "Babies weight mean:   3275.9545454545455\n",
      "Babies weight standard deviation:  528.032458240592\n"
     ]
    }
   ],
   "source": [
    "print(\"Babies weight mean:  \"  , babies['weight'].mean()) \n",
    "babies_mean = babies['weight'].mean()\n",
    "x = np.linspace(babies_mean - 3*babies_std, babies_mean + 3*babies_std, 100)\n",
    "\n",
    "print(\"Babies weight standard deviation: \"  , babies['weight'].std())\n",
    "babies_std = babies['weight'].std()\n",
    "y = stats.norm.pdf(x, babies_mean, babies_std)\n"
   ]
  },
  {
   "cell_type": "markdown",
   "metadata": {},
   "source": [
    "Can you plot the normal distribution with this mean and standard deviation on top of your histogram?  Remember to change the y axis to `density`."
   ]
  },
  {
   "cell_type": "code",
   "execution_count": 53,
   "metadata": {},
   "outputs": [
    {
     "data": {
      "text/plain": [
       "[<matplotlib.lines.Line2D at 0x1fabe1376a0>]"
      ]
     },
     "execution_count": 53,
     "metadata": {},
     "output_type": "execute_result"
    },
    {
     "data": {
      "image/png": "[encoded data removed]",
      "text/plain": [
       "<Figure size 432x288 with 1 Axes>"
      ]
     },
     "metadata": {
      "needs_background": "light"
     },
     "output_type": "display_data"
    }
   ],
   "source": [
    "babies['weight'].hist(bins = 30, density = True) \n",
    "plt.plot(x,y)"
   ]
  },
  {
   "cell_type": "markdown",
   "metadata": {},
   "source": [
    "Do you think the weights are normally distributed?\n",
    "\n",
    "## Exponential distribution\n",
    "\n",
    "Let's look at one more distribution.  The exponential distribution is used to model the time between events that happen independently.  Here, we will use it to model the time between the babies' births.\n",
    "\n",
    "The function for the exponential distribution is: $$\n",
    "f(x;\\lambda) = \\begin{cases}\n",
    "\\lambda e^{-\\lambda x} \\quad \\text{if } x \\ge 0, \\\\\n",
    "0 \\quad \\quad \\text{if } x < 0.\n",
    "\\end{cases}\n",
    "$$\n",
    "\n",
    "The exponential distribution is also a parametric distribution.  How many parameters does it have and what are they?\n",
    "\n",
    "$\\lambda$ (\"lambda\") is called the *rate parameter*, and is estimated as $\\frac{1}{\\text{mean of data}}$. \n",
    "\n",
    "\n",
    "Let's plot the explonential function.  First create a set of `x` values between -2 and 5."
   ]
  },
  {
   "cell_type": "code",
   "execution_count": 56,
   "metadata": {},
   "outputs": [
    {
     "data": {
      "text/plain": [
       "array([-2.        , -1.92929293, -1.85858586, -1.78787879, -1.71717172,\n",
       "       -1.64646465, -1.57575758, -1.50505051, -1.43434343, -1.36363636,\n",
       "       -1.29292929, -1.22222222, -1.15151515, -1.08080808, -1.01010101,\n",
       "       -0.93939394, -0.86868687, -0.7979798 , -0.72727273, -0.65656566,\n",
       "       -0.58585859, -0.51515152, -0.44444444, -0.37373737, -0.3030303 ,\n",
       "       -0.23232323, -0.16161616, -0.09090909, -0.02020202,  0.05050505,\n",
       "        0.12121212,  0.19191919,  0.26262626,  0.33333333,  0.4040404 ,\n",
       "        0.47474747,  0.54545455,  0.61616162,  0.68686869,  0.75757576,\n",
       "        0.82828283,  0.8989899 ,  0.96969697,  1.04040404,  1.11111111,\n",
       "        1.18181818,  1.25252525,  1.32323232,  1.39393939,  1.46464646,\n",
       "        1.53535354,  1.60606061,  1.67676768,  1.74747475,  1.81818182,\n",
       "        1.88888889,  1.95959596,  2.03030303,  2.1010101 ,  2.17171717,\n",
       "        2.24242424,  2.31313131,  2.38383838,  2.45454545,  2.52525253,\n",
       "        2.5959596 ,  2.66666667,  2.73737374,  2.80808081,  2.87878788,\n",
       "        2.94949495,  3.02020202,  3.09090909,  3.16161616,  3.23232323,\n",
       "        3.3030303 ,  3.37373737,  3.44444444,  3.51515152,  3.58585859,\n",
       "        3.65656566,  3.72727273,  3.7979798 ,  3.86868687,  3.93939394,\n",
       "        4.01010101,  4.08080808,  4.15151515,  4.22222222,  4.29292929,\n",
       "        4.36363636,  4.43434343,  4.50505051,  4.57575758,  4.64646465,\n",
       "        4.71717172,  4.78787879,  4.85858586,  4.92929293,  5.        ])"
      ]
     },
     "execution_count": 56,
     "metadata": {},
     "output_type": "execute_result"
    }
   ],
   "source": [
    "x = np.linspace(-2, 5, 100)\n",
    "x\n"
   ]
  },
  {
   "cell_type": "markdown",
   "metadata": {},
   "source": [
    "Next calculate the `y` values when lambda is 1.  Note that since `lambda` is a reserved word in Python, we can't use it as our variable name and will use `lambda_` instead."
   ]
  },
  {
   "cell_type": "code",
   "execution_count": 58,
   "metadata": {},
   "outputs": [
    {
     "data": {
      "text/plain": [
       "array([0.        , 0.        , 0.        , 0.        , 0.        ,\n",
       "       0.        , 0.        , 0.        , 0.        , 0.        ,\n",
       "       0.        , 0.        , 0.        , 0.        , 0.        ,\n",
       "       0.        , 0.        , 0.        , 0.        , 0.        ,\n",
       "       0.        , 0.        , 0.        , 0.        , 0.        ,\n",
       "       0.        , 0.        , 0.        , 0.        , 0.95074913,\n",
       "       0.88584603, 0.82537356, 0.76902926, 0.71653131, 0.66761715,\n",
       "       0.62204212, 0.57957828, 0.54001324, 0.50314912, 0.46880154,\n",
       "       0.4367987 , 0.40698054, 0.37919793, 0.3533119 , 0.32919299,\n",
       "       0.30672056, 0.28578221, 0.26627323, 0.24809603, 0.2311597 ,\n",
       "       0.21537953, 0.2006766 , 0.18697737, 0.17421332, 0.16232061,\n",
       "       0.15123976, 0.14091534, 0.13129573, 0.1223328 , 0.11398172,\n",
       "       0.10620074, 0.09895092, 0.09219601, 0.08590223, 0.0800381 ,\n",
       "       0.07457428, 0.06948345, 0.06474015, 0.06032065, 0.05620285,\n",
       "       0.05236615, 0.04879136, 0.04546061, 0.04235723, 0.0394657 ,\n",
       "       0.03677157, 0.03426135, 0.03192249, 0.0297433 , 0.02771286,\n",
       "       0.02582104, 0.02405836, 0.02241601, 0.02088578, 0.01946001,\n",
       "       0.01813156, 0.01689381, 0.01574055, 0.01466602, 0.01366484,\n",
       "       0.01273201, 0.01186285, 0.01105303, 0.01029849, 0.00959547,\n",
       "       0.00894043, 0.00833011, 0.00776145, 0.00723161, 0.00673795])"
      ]
     },
     "execution_count": 58,
     "metadata": {},
     "output_type": "execute_result"
    }
   ],
   "source": [
    "lambda_ = 1\n",
    "y = stats.expon.pdf(x, scale = 1/lambda_)\n",
    "y"
   ]
  },
  {
   "cell_type": "markdown",
   "metadata": {},
   "source": [
    "Plot the x and y values:"
   ]
  },
  {
   "cell_type": "code",
   "execution_count": 59,
   "metadata": {},
   "outputs": [
    {
     "data": {
      "text/plain": [
       "[<matplotlib.lines.Line2D at 0x1fabe2def60>]"
      ]
     },
     "execution_count": 59,
     "metadata": {},
     "output_type": "execute_result"
    },
    {
     "data": {
      "image/png": "[encoded data removed]",
      "text/plain": [
       "<Figure size 432x288 with 1 Axes>"
      ]
     },
     "metadata": {
      "needs_background": "light"
     },
     "output_type": "display_data"
    }
   ],
   "source": [
    "plt.plot(x,y)"
   ]
  },
  {
   "cell_type": "markdown",
   "metadata": {},
   "source": [
    "### Sampling from the Exponential Distribution\n",
    "\n",
    "Sample 1000 values from the exponential distribution with $\\lambda = 1$, using the command:"
   ]
  },
  {
   "cell_type": "code",
   "execution_count": 61,
   "metadata": {},
   "outputs": [],
   "source": [
    "sample = np.random.exponential(scale = 1/lambda_, size = 1000)"
   ]
  },
  {
   "cell_type": "markdown",
   "metadata": {},
   "source": [
    "Plot a histogram of the sample to see its distribution: "
   ]
  },
  {
   "cell_type": "code",
   "execution_count": 63,
   "metadata": {},
   "outputs": [
    {
     "data": {
      "text/plain": [
       "<matplotlib.axes._subplots.AxesSubplot at 0x1fabe31fc88>"
      ]
     },
     "execution_count": 63,
     "metadata": {},
     "output_type": "execute_result"
    },
    {
     "data": {
      "image/png": "[encoded data removed]",
      "text/plain": [
       "<Figure size 432x288 with 1 Axes>"
      ]
     },
     "metadata": {
      "needs_background": "light"
     },
     "output_type": "display_data"
    }
   ],
   "source": [
    "pd.Series(sample).hist(bins = 30, density = True)\n"
   ]
  },
  {
   "cell_type": "markdown",
   "metadata": {},
   "source": [
    "How does the histogram compare to the theoretical distribution (the probability density function or pdf)?\n",
    "\n",
    "### Exponentially distributed data\n",
    "\n",
    "The time between births might be exponentially distributed, but we just have the number of minutes after midnight each baby was born.  So we need to calculate the difference between the birth times.  Luckily this type of calculation is done frequently in data science and there is already a function for it."
   ]
  },
  {
   "cell_type": "code",
   "execution_count": 65,
   "metadata": {},
   "outputs": [
    {
     "data": {
      "text/plain": [
       "0       NaN\n",
       "1      59.0\n",
       "2      14.0\n",
       "3      37.0\n",
       "4      62.0\n",
       "5      68.0\n",
       "6       2.0\n",
       "7      15.0\n",
       "8       9.0\n",
       "9     157.0\n",
       "10     27.0\n",
       "11     37.0\n",
       "12      2.0\n",
       "13     55.0\n",
       "14     86.0\n",
       "15     14.0\n",
       "16      4.0\n",
       "17     40.0\n",
       "18     36.0\n",
       "19     47.0\n",
       "20      9.0\n",
       "21     61.0\n",
       "22      1.0\n",
       "23     26.0\n",
       "24     13.0\n",
       "25     28.0\n",
       "26     77.0\n",
       "27     26.0\n",
       "28     45.0\n",
       "29     25.0\n",
       "30     18.0\n",
       "31     29.0\n",
       "32     15.0\n",
       "33     38.0\n",
       "34      2.0\n",
       "35      2.0\n",
       "36     19.0\n",
       "37     27.0\n",
       "38     14.0\n",
       "39     13.0\n",
       "40     19.0\n",
       "41     54.0\n",
       "42     70.0\n",
       "43     28.0\n",
       "Name: minutes, dtype: float64"
      ]
     },
     "execution_count": 65,
     "metadata": {},
     "output_type": "execute_result"
    }
   ],
   "source": [
    "mins_btw_births = babies[\"minutes\"].diff()\n",
    "mins_btw_births"
   ]
  },
  {
   "cell_type": "markdown",
   "metadata": {},
   "source": [
    "Plot a histogram of the number of minutes between births."
   ]
  },
  {
   "cell_type": "code",
   "execution_count": 66,
   "metadata": {},
   "outputs": [
    {
     "data": {
      "text/plain": [
       "<matplotlib.axes._subplots.AxesSubplot at 0x1fabf6ff470>"
      ]
     },
     "execution_count": 66,
     "metadata": {},
     "output_type": "execute_result"
    },
    {
     "data": {
      "image/png": "[encoded data removed]",
      "text/plain": [
       "<Figure size 432x288 with 1 Axes>"
      ]
     },
     "metadata": {
      "needs_background": "light"
     },
     "output_type": "display_data"
    }
   ],
   "source": [
    "mins_btw_births.hist()"
   ]
  },
  {
   "cell_type": "markdown",
   "metadata": {},
   "source": [
    "Do you think the minutes between births has an exponential distribution?  Let's plot the pdf for the exponential function on top of the histogram to compare.  \n",
    "\n",
    "First, estimate $\\lambda$ by computing $\\frac{1}{\\text{mean time between births}}$:"
   ]
  },
  {
   "cell_type": "code",
   "execution_count": 70,
   "metadata": {},
   "outputs": [
    {
     "data": {
      "text/plain": [
       "0.03006993006993007"
      ]
     },
     "execution_count": 70,
     "metadata": {},
     "output_type": "execute_result"
    }
   ],
   "source": [
    "lambda_1 = 1 / mins_btw_births.mean()\n",
    "lambda_1 \n"
   ]
  },
  {
   "cell_type": "markdown",
   "metadata": {},
   "source": [
    "Next plot the pdf of the exponential function with that $\\lambda$ on top of your histogram (using the `density = True` parameter):"
   ]
  },
  {
   "cell_type": "code",
   "execution_count": 74,
   "metadata": {},
   "outputs": [
    {
     "data": {
      "text/plain": [
       "[<matplotlib.lines.Line2D at 0x1fabfdc7cc0>]"
      ]
     },
     "execution_count": 74,
     "metadata": {},
     "output_type": "execute_result"
    },
    {
     "data": {
      "image/png": "[encoded data removed]",
      "text/plain": [
       "<Figure size 432x288 with 1 Axes>"
      ]
     },
     "metadata": {
      "needs_background": "light"
     },
     "output_type": "display_data"
    }
   ],
   "source": [
    "mins_btw_births.hist(density=True)\n",
    "x = np.linspace(0,160,100)\n",
    "y = stats.expon.pdf(x, scale = 1/lambda_1)\n",
    "plt.plot(x,y)"
   ]
  },
  {
   "cell_type": "markdown",
   "metadata": {},
   "source": [
    "Do you think the time between baby births follows an exponential distribution?\n",
    "\n",
    "The `scale` parameter is $1/\\lambda$ but since $\\lambda = \\frac{1}{\\text{mean time between births}}$ we could have just used the mean time between births as the scale."
   ]
  },
  {
   "cell_type": "markdown",
   "metadata": {},
   "source": [
    "### Challenges:\n",
    "- What happens if you plot the normal distribution only using 10 evenly spaces x values?\n",
    "- You can also sample from the normal distribution using the scipy library:  `sample = stats.norm.rvs(loc=mu, scale=sigma, size=1000)`. Try it.\n",
    "- Consider the green taxi trip dataset:  "
   ]
  },
  {
   "cell_type": "code",
   "execution_count": null,
   "metadata": {},
   "outputs": [],
   "source": []
  }
 ],
 "metadata": {
  "kernelspec": {
   "display_name": "Python 3",
   "language": "python",
   "name": "python3"
  },
  "language_info": {
   "codemirror_mode": {
    "name": "ipython",
    "version": 3
   },
   "file_extension": ".py",
   "mimetype": "text/x-python",
   "name": "python",
   "nbconvert_exporter": "python",
   "pygments_lexer": "ipython3",
   "version": "3.7.1"
  }
 },
 "nbformat": 4,
 "nbformat_minor": 2
}
