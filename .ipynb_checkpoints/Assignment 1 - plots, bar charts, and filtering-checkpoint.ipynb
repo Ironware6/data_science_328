{
 "cells": [
  {
   "cell_type": "markdown",
   "metadata": {},
   "source": [
    "# Assignment 1: plots, bar charts, and filtering\n",
    "\n",
    "This assignment uses a dataset of all NYC restaurant inspection results from Jan. 1, 2019 - Aug. 30, 2019.  Download the file from Blackboard.  The original, unfiltered dataset is at [https://data.cityofnewyork.us/Health/DOHMH-New-York-City-Restaurant-Inspection-Results/43nn-pn8j](https://data.cityofnewyork.us/Health/DOHMH-New-York-City-Restaurant-Inspection-Results/43nn-pn8j).\n",
    "\n",
    "Information about how restaurants are inspected and graded in NYC is here: https://www1.nyc.gov/assets/doh/downloads/pdf/rii/how-we-score-grade.pdf(https://www1.nyc.gov/assets/doh/downloads/pdf/rii/how-we-score-grade.pdf)\n",
    "\n",
    "There are a lot of columns in this dataset.  To show them all when displaying the dataset, use the following code beforehand (once per notebook):\n",
    "`pd.set_option('display.max_columns', None)`\n",
    "\n",
    "All plots should have an appropriate title and axes labels.\n",
    "\n",
    "1.  Plot a histogram to visualize the distribution of the inspection scores.  You should experiment with the number of bins to find a visualization that shows all major features of the distribution.  What do you notice about the distribution, and how do you think that fits with how restaurants are inspected?\n",
    "\n",
    "2.  Plot a bar chart of the distribution of boroughs.  In which boroughs are the most/least restaurant inspections?\n",
    "\n",
    "3.  Find the mean score for inspections made in January and the mean score for inspections made in July.  From these computations, does the mean score seem to depend on the month?  Why do you think this might be?\n",
    "\n",
    "4.  Make a bar chart of the top 15 cuisine types in the dataset.\n",
    "\n",
    "5.  How many different cuisine types are there in the dataset?  And what is the most common street?"
   ]
  },
  {
   "cell_type": "code",
   "execution_count": null,
   "metadata": {
    "collapsed": true
   },
   "outputs": [],
   "source": []
  }
 ],
 "metadata": {
  "kernelspec": {
   "display_name": "Python 3",
   "language": "python",
   "name": "python3"
  },
  "language_info": {
   "codemirror_mode": {
    "name": "ipython",
    "version": 3
   },
   "file_extension": ".py",
   "mimetype": "text/x-python",
   "name": "python",
   "nbconvert_exporter": "python",
   "pygments_lexer": "ipython3",
   "version": "3.7.1"
  }
 },
 "nbformat": 4,
 "nbformat_minor": 2
}
